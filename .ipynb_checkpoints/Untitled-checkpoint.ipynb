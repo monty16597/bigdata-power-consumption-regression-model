{
 "cells": [
  {
   "cell_type": "code",
   "execution_count": 1,
   "id": "100e2ab3-b9d5-43bb-88f8-b450ed00b500",
   "metadata": {},
   "outputs": [],
   "source": [
    "import sys\n",
    "import pandas as pd\n",
    "\n",
    "def create_features(df):\n",
    "    \"\"\"\n",
    "    Create time series features based on time series index.\n",
    "    \"\"\"\n",
    "    df = df.copy()\n",
    "    df['hour'] = df.index.hour\n",
    "    df['minute'] = df.index.minute\n",
    "    df['dayofweek'] = df.index.dayofweek\n",
    "    df['quarter'] = df.index.quarter\n",
    "    df['month'] = df.index.month\n",
    "    df['day'] = df.index.month\n",
    "    df['year'] = df.index.year\n",
    "    df['season'] = df['month'] % 12 // 3 + 1\n",
    "    df['dayofyear'] = df.index.dayofyear\n",
    "    df['dayofmonth'] = df.index.day\n",
    "    df['weekofyear'] = df.index.isocalendar().week\n",
    "    return df.astype(float)\n",
    "\n",
    "df = pd.read_csv(\"Tetuan City power consumption.csv\")\n",
    "df.columns = ['_'.join(list(filter(None, col.lower().split(' ')))) for col in df.columns]\n",
    "df = df.set_index('datetime')\n",
    "df.index = pd.to_datetime(df.index)\n",
    "df = create_features(df)\n",
    "df.to_csv('processed-tetuan City power consumption.csv')"
   ]
  },
  {
   "cell_type": "code",
   "execution_count": null,
   "id": "d90efe1f-556c-4389-b74b-fad5f89dfebf",
   "metadata": {},
   "outputs": [],
   "source": []
  }
 ],
 "metadata": {
  "kernelspec": {
   "display_name": "Python 3 (ipykernel)",
   "language": "python",
   "name": "python3"
  },
  "language_info": {
   "codemirror_mode": {
    "name": "ipython",
    "version": 3
   },
   "file_extension": ".py",
   "mimetype": "text/x-python",
   "name": "python",
   "nbconvert_exporter": "python",
   "pygments_lexer": "ipython3",
   "version": "3.11.5"
  }
 },
 "nbformat": 4,
 "nbformat_minor": 5
}
